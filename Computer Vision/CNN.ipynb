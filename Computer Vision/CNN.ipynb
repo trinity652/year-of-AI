{
 "cells": [
  {
   "cell_type": "code",
   "execution_count": 20,
   "metadata": {},
   "outputs": [],
   "source": [
    "import os\n",
    "import zipfile\n",
    "import random\n",
    "import shutil\n",
    "import tensorflow as tf\n",
    "from tensorflow.keras.preprocessing.image import ImageDataGenerator\n",
    "from shutil import copyfile\n",
    "import matplotlib.pyplot as plt"
   ]
  },
  {
   "cell_type": "code",
   "execution_count": 3,
   "metadata": {},
   "outputs": [
    {
     "name": "stdout",
     "output_type": "stream",
     "text": [
      "--2023-08-28 23:14:43--  https://download.microsoft.com/download/3/E/1/3E1C3F21-ECDB-4869-8368-6DEBA77B919F/kagglecatsanddogs_5340.zip\n",
      "Resolving download.microsoft.com (download.microsoft.com)... 104.108.251.20\n",
      "Connecting to download.microsoft.com (download.microsoft.com)|104.108.251.20|:443... connected.\n",
      "HTTP request sent, awaiting response... 200 OK\n",
      "Length: 824887076 (787M) [application/octet-stream]\n",
      "Saving to: ‘/tmp/cats-and-dogs.zip’\n",
      "\n",
      "/tmp/cats-and-dogs. 100%[===================>] 786.67M  6.20MB/s    in 1m 59s  \n",
      "\n",
      "2023-08-28 23:16:42 (6.63 MB/s) - ‘/tmp/cats-and-dogs.zip’ saved [824887076/824887076]\n",
      "\n"
     ]
    }
   ],
   "source": [
    "# Download the cats vs dogs dataset\n",
    "!wget --no-check-certificate \\\n",
    "    \"https://download.microsoft.com/download/3/E/1/3E1C3F21-ECDB-4869-8368-6DEBA77B919F/kagglecatsanddogs_5340.zip\" \\\n",
    "    -O \"/tmp/cats-and-dogs.zip\"\n",
    "\n",
    "local_zip = './cats-and-dogs.zip'\n",
    "zip_ref   = zipfile.ZipFile(local_zip, 'r')\n",
    "zip_ref.extractall('./')\n",
    "zip_ref.close()"
   ]
  },
  {
   "cell_type": "code",
   "execution_count": 6,
   "metadata": {},
   "outputs": [
    {
     "name": "stdout",
     "output_type": "stream",
     "text": [
      "There are 2 directories and 0 files in '/Users/abhilashajha/Documents/Github/year-of-AI/Computer Vision/cats-v-dogs'\n",
      "There are 2 directories and 0 files in '/Users/abhilashajha/Documents/Github/year-of-AI/Computer Vision/cats-v-dogs/training'\n",
      "There are 0 directories and 0 files in '/Users/abhilashajha/Documents/Github/year-of-AI/Computer Vision/cats-v-dogs/training/dogs'\n",
      "There are 0 directories and 0 files in '/Users/abhilashajha/Documents/Github/year-of-AI/Computer Vision/cats-v-dogs/training/cats'\n",
      "There are 2 directories and 0 files in '/Users/abhilashajha/Documents/Github/year-of-AI/Computer Vision/cats-v-dogs/validation'\n",
      "There are 0 directories and 0 files in '/Users/abhilashajha/Documents/Github/year-of-AI/Computer Vision/cats-v-dogs/validation/dogs'\n",
      "There are 0 directories and 0 files in '/Users/abhilashajha/Documents/Github/year-of-AI/Computer Vision/cats-v-dogs/validation/cats'\n"
     ]
    }
   ],
   "source": [
    "# get path of current directory and join it with a folder name\n",
    "root_dir = os.path.join(os.getcwd(), 'cats-v-dogs')\n",
    "if os.path.exists(root_dir):\n",
    "  shutil.rmtree(root_dir)\n",
    "\n",
    "def create_train_val_dirs(root_path):\n",
    "  \n",
    "  os.makedirs(os.path.join(root_dir, 'training/cats'))\n",
    "  os.makedirs(os.path.join(root_dir, 'training/dogs'))\n",
    "  os.makedirs(os.path.join(root_dir, 'validation/cats'))\n",
    "  os.makedirs(os.path.join(root_dir, 'validation/dogs'))\n",
    "\n",
    "\n",
    "try:\n",
    "  create_train_val_dirs(root_path=root_dir)\n",
    "except FileExistsError:\n",
    "  print(\"You should not be seeing this since the upper directory is removed beforehand\")\n",
    "\n",
    "# Code to traverse through the directory and print the contents\n",
    "for dirpath, dirnames, filenames in os.walk(root_dir):\n",
    "  print(f\"There are {len(dirnames)} directories and {len(filenames)} files in '{dirpath}'\")\n"
   ]
  },
  {
   "cell_type": "code",
   "execution_count": 7,
   "metadata": {},
   "outputs": [],
   "source": [
    "def split_data(SOURCE_DIR, TRAINING_DIR, VALIDATION_DIR, SPLIT_SIZE):\n",
    "  \"\"\"\n",
    "  Splits the data into train and test sets\n",
    "  \n",
    "  Args:\n",
    "    SOURCE_DIR (string): directory path containing the images\n",
    "    TRAINING_DIR (string): directory path to be used for training\n",
    "    VALIDATION_DIR (string): directory path to be used for validation\n",
    "    SPLIT_SIZE (float): proportion of the dataset to be used for training\n",
    "    \n",
    "  Returns:\n",
    "    None\n",
    "  \"\"\"\n",
    "  L=[]\n",
    "  for val in os.listdir(SOURCE_DIR):\n",
    "    src_file_name = os.path.join(SOURCE_DIR,val)\n",
    "    if os.path.getsize(src_file_name)>0:\n",
    "      L.append(val)\n",
    "    else:\n",
    "      print(f\"{val} is zero length, so ignoring.\")\n",
    "\n",
    "  \n",
    "  random.sample(L, len(L)) #randomize the list of files\n",
    "  train_size = int(SPLIT_SIZE * len(L))\n",
    "  training_set = L[:train_size]\n",
    "  validation_set = L[train_size:]\n",
    "\n",
    "  for val in training_set:\n",
    "    src_file_name = os.path.join(SOURCE_DIR,val)\n",
    "    dest_file_name = os.path.join(TRAINING_DIR,val)\n",
    "    copyfile(src_file_name,dest_file_name)\n",
    "\n",
    "  for val in validation_set:\n",
    "    src_file_name = os.path.join(SOURCE_DIR,val)\n",
    "    dest_file_name = os.path.join(VALIDATION_DIR,val)\n",
    "    copyfile(src_file_name,dest_file_name)"
   ]
  },
  {
   "cell_type": "code",
   "execution_count": 8,
   "metadata": {},
   "outputs": [
    {
     "name": "stdout",
     "output_type": "stream",
     "text": [
      "666.jpg is zero length, so ignoring.\n",
      "11702.jpg is zero length, so ignoring.\n",
      "\n",
      "\n",
      "Original cat's directory has 12501 images\n",
      "Original dog's directory has 12501 images\n",
      "\n",
      "There are 11250 images of cats for training\n",
      "There are 11250 images of dogs for training\n",
      "There are 1250 images of cats for validation\n",
      "There are 1250 images of dogs for validation\n"
     ]
    }
   ],
   "source": [
    "# Define paths for the source and destination directories\n",
    "CAT_SOURCE_DIR = \"./cats-and-dogs/PetImages/Cat/\"\n",
    "DOG_SOURCE_DIR = \"./cats-and-dogs/PetImages/Dog/\"\n",
    "\n",
    "TRAINING_DIR = \"./cats-v-dogs/training/\"\n",
    "VALIDATION_DIR = \"./cats-v-dogs/validation/\"\n",
    "\n",
    "TRAINING_CATS_DIR = os.path.join(TRAINING_DIR, \"cats/\")\n",
    "VALIDATION_CATS_DIR = os.path.join(VALIDATION_DIR, \"cats/\")\n",
    "\n",
    "TRAINING_DOGS_DIR = os.path.join(TRAINING_DIR, \"dogs/\")\n",
    "VALIDATION_DOGS_DIR = os.path.join(VALIDATION_DIR, \"dogs/\")\n",
    "\n",
    "# Empty directories in case you run this cell multiple times\n",
    "if len(os.listdir(TRAINING_CATS_DIR)) > 0:\n",
    "  for file in os.scandir(TRAINING_CATS_DIR):\n",
    "    os.remove(file.path)\n",
    "if len(os.listdir(TRAINING_DOGS_DIR)) > 0:\n",
    "  for file in os.scandir(TRAINING_DOGS_DIR):\n",
    "    os.remove(file.path)\n",
    "if len(os.listdir(VALIDATION_CATS_DIR)) > 0:\n",
    "  for file in os.scandir(VALIDATION_CATS_DIR):\n",
    "    os.remove(file.path)\n",
    "if len(os.listdir(VALIDATION_DOGS_DIR)) > 0:\n",
    "  for file in os.scandir(VALIDATION_DOGS_DIR):\n",
    "    os.remove(file.path)\n",
    "\n",
    "# Define proportion of images used for training\n",
    "split_size = .9\n",
    "\n",
    "split_data(CAT_SOURCE_DIR, TRAINING_CATS_DIR, VALIDATION_CATS_DIR, split_size)\n",
    "split_data(DOG_SOURCE_DIR, TRAINING_DOGS_DIR, VALIDATION_DOGS_DIR, split_size)\n",
    "\n",
    "print(f\"\\n\\nOriginal cat's directory has {len(os.listdir(CAT_SOURCE_DIR))} images\")\n",
    "print(f\"Original dog's directory has {len(os.listdir(DOG_SOURCE_DIR))} images\\n\")\n",
    "\n",
    "print(f\"There are {len(os.listdir(TRAINING_CATS_DIR))} images of cats for training\")\n",
    "print(f\"There are {len(os.listdir(TRAINING_DOGS_DIR))} images of dogs for training\")\n",
    "print(f\"There are {len(os.listdir(VALIDATION_CATS_DIR))} images of cats for validation\")\n",
    "print(f\"There are {len(os.listdir(VALIDATION_DOGS_DIR))} images of dogs for validation\")"
   ]
  },
  {
   "cell_type": "code",
   "execution_count": 30,
   "metadata": {},
   "outputs": [
    {
     "name": "stdout",
     "output_type": "stream",
     "text": [
      "Found 22498 images belonging to 2 classes.\n",
      "Found 2500 images belonging to 2 classes.\n"
     ]
    }
   ],
   "source": [
    "def train_val_generators(TRAINING_DIR, VALIDATION_DIR):\n",
    "    \"\"\"\n",
    "    Creates the training and validation data generators\n",
    "    \n",
    "    Args:\n",
    "        TRAINING_DIR (string): directory path containing the training images\n",
    "        VALIDATION_DIR (string): directory path containing the testing/validation images\n",
    "        \n",
    "    Returns:\n",
    "        train_generator, validation_generator - tuple containing the generators\n",
    "    \"\"\"\n",
    "\n",
    "    train_datagen = ImageDataGenerator(rescale=1./255)\n",
    "\n",
    "    # train_generator takes images from the training directory, in batches of 20, and resizes them to 150x150\n",
    "    train_generator = train_datagen.flow_from_directory(directory=TRAINING_DIR,\n",
    "                                                        batch_size=20,\n",
    "                                                        class_mode='binary',\n",
    "                                                        target_size=(150,150))\n",
    "\n",
    "    validation_datagen = ImageDataGenerator(rescale=1./255)\n",
    "\n",
    "    # validation_generator takes images from the validation directory, in batches of 20, and resizes them to 150x150\n",
    "\n",
    "    validation_generator = validation_datagen.flow_from_directory(directory=VALIDATION_DIR,\n",
    "                                                                    batch_size=20,\n",
    "                                                                    class_mode='binary',\n",
    "                                                                    target_size=(150,150))\n",
    "\n",
    "    return train_generator, validation_generator\n",
    "\n",
    "\n",
    "\n",
    "# test the function\n",
    "\n",
    "train_generator, validation_generator = train_val_generators(TRAINING_DIR, VALIDATION_DIR)\n"
   ]
  },
  {
   "cell_type": "code",
   "execution_count": 31,
   "metadata": {},
   "outputs": [],
   "source": [
    "# Create Model\n",
    "\n",
    "# What is the need to increase the number of filters with layers?\n",
    "\n",
    "# Why does the size of the image representation decrease with layers?\n",
    "# The size of the image representation decreases with layers because of the MaxPooling2D layer.\n",
    "\n",
    "# Why do we flatten the image representation before the dense layers?\n",
    "# We flatten the image representation before the dense layers because the dense layers only take 1D inputs.\n",
    "\n",
    "# Why do we use binary_crossentropy for a binary classification problem?\n",
    "# We use binary_crossentropy for a binary classification problem because it is a binary classification loss function. The binary_crossentropy\n",
    "# loss function looks like this: -ylog(p) - (1-y)log(1-p), where y is the true label and p is the predicted label.\n",
    "from tensorflow.keras.optimizers import RMSprop\n",
    "\n",
    "def create_model():\n",
    "\n",
    "    \n",
    "    model = tf.keras.models.Sequential(\n",
    "        [\n",
    "            tf.keras.layers.Conv2D(16,(3,3),activation='relu',input_shape=(150,150,3)), # Here, the arguments taken by Conv2D are: number of filters, filter size, activation function, and input shape\n",
    "            tf.keras.layers.MaxPooling2D(2,2), # MaxPooling2D is used to reduce the size of the image representation by half\n",
    "            tf.keras.layers.Conv2D(32, (3,3), activation='relu'), # Input size of 2nd conv layer for a 150x150 image is 74x74x32\n",
    "            tf.keras.layers.MaxPooling2D(2,2),\n",
    "            tf.keras.layers.Conv2D(64, (3,3), activation='relu'), # Input size of 3rd conv layer for a 150x150 image is 36x36x64\n",
    "            tf.keras.layers.MaxPooling2D(2,2), \n",
    "            tf.keras.layers.Flatten(), # After flattening the size of the image representation is 12x12x64 = 9216\n",
    "            tf.keras.layers.Dense(512, activation='relu'), # 512 neurons in the dense layer\n",
    "            # the output layer has only 1 neuron because we are using binary classification, 0 for cats and 1 for dogs\n",
    "            tf.keras.layers.Dense(1, activation='sigmoid') # 1 neuron in the output layer\n",
    "\n",
    "        ]\n",
    "    )\n",
    "\n",
    "    # set optimizer to RMSprop and loss function to binary_crossentropy\n",
    "    model.compile(optimizer=RMSprop(learning_rate=0.001), loss='binary_crossentropy', metrics=['accuracy'])\n",
    "\n",
    "    return model"
   ]
  },
  {
   "cell_type": "code",
   "execution_count": 32,
   "metadata": {},
   "outputs": [
    {
     "name": "stdout",
     "output_type": "stream",
     "text": [
      "Epoch 1/15\n"
     ]
    },
    {
     "name": "stderr",
     "output_type": "stream",
     "text": [
      "2023-08-29 13:07:40.738361: I tensorflow/core/grappler/optimizers/custom_graph_optimizer_registry.cc:113] Plugin optimizer for device_type GPU is enabled.\n"
     ]
    },
    {
     "name": "stdout",
     "output_type": "stream",
     "text": [
      "1124/1125 [============================>.] - ETA: 0s - loss: 0.5890 - accuracy: 0.6935"
     ]
    },
    {
     "name": "stderr",
     "output_type": "stream",
     "text": [
      "2023-08-29 13:08:29.389481: I tensorflow/core/grappler/optimizers/custom_graph_optimizer_registry.cc:113] Plugin optimizer for device_type GPU is enabled.\n"
     ]
    },
    {
     "name": "stdout",
     "output_type": "stream",
     "text": [
      "1125/1125 [==============================] - 53s 46ms/step - loss: 0.5888 - accuracy: 0.6937 - val_loss: 0.4683 - val_accuracy: 0.7732\n",
      "Epoch 2/15\n",
      "1125/1125 [==============================] - 50s 45ms/step - loss: 0.4550 - accuracy: 0.7861 - val_loss: 0.4287 - val_accuracy: 0.8112\n",
      "Epoch 3/15\n",
      "1125/1125 [==============================] - 54s 48ms/step - loss: 0.3995 - accuracy: 0.8249 - val_loss: 0.4138 - val_accuracy: 0.8100\n",
      "Epoch 4/15\n",
      "1125/1125 [==============================] - 51s 46ms/step - loss: 0.3614 - accuracy: 0.8439 - val_loss: 0.3934 - val_accuracy: 0.8300\n",
      "Epoch 5/15\n",
      "1125/1125 [==============================] - 53s 47ms/step - loss: 0.3357 - accuracy: 0.8616 - val_loss: 0.5078 - val_accuracy: 0.8016\n",
      "Epoch 6/15\n",
      "1125/1125 [==============================] - 52s 46ms/step - loss: 0.3154 - accuracy: 0.8710 - val_loss: 0.4068 - val_accuracy: 0.8284\n",
      "Epoch 7/15\n",
      "1125/1125 [==============================] - 54s 48ms/step - loss: 0.3013 - accuracy: 0.8769 - val_loss: 0.4107 - val_accuracy: 0.8332\n",
      "Epoch 8/15\n",
      "1125/1125 [==============================] - 54s 48ms/step - loss: 0.2998 - accuracy: 0.8838 - val_loss: 0.5386 - val_accuracy: 0.7116\n",
      "Epoch 9/15\n",
      "1125/1125 [==============================] - 53s 47ms/step - loss: 0.2951 - accuracy: 0.8855 - val_loss: 0.4831 - val_accuracy: 0.8444\n",
      "Epoch 10/15\n",
      "1125/1125 [==============================] - 56s 50ms/step - loss: 0.3010 - accuracy: 0.8871 - val_loss: 0.5707 - val_accuracy: 0.8264\n",
      "Epoch 11/15\n",
      "1125/1125 [==============================] - 55s 49ms/step - loss: 0.2880 - accuracy: 0.8893 - val_loss: 0.5450 - val_accuracy: 0.8092\n",
      "Epoch 12/15\n",
      "1125/1125 [==============================] - 55s 49ms/step - loss: 0.3005 - accuracy: 0.8905 - val_loss: 0.9161 - val_accuracy: 0.7504\n",
      "Epoch 13/15\n",
      "1125/1125 [==============================] - 54s 48ms/step - loss: 0.3010 - accuracy: 0.8912 - val_loss: 0.5339 - val_accuracy: 0.8204\n",
      "Epoch 14/15\n",
      "1125/1125 [==============================] - 55s 49ms/step - loss: 0.3025 - accuracy: 0.8900 - val_loss: 0.5192 - val_accuracy: 0.8332\n",
      "Epoch 15/15\n",
      "1125/1125 [==============================] - 54s 48ms/step - loss: 0.2999 - accuracy: 0.8904 - val_loss: 0.7598 - val_accuracy: 0.8080\n"
     ]
    }
   ],
   "source": [
    "# Get the untrained model\n",
    "model = create_model()\n",
    "\n",
    "# Train the model\n",
    "# Note that this may take some time.\n",
    "history = model.fit(train_generator,\n",
    "                    epochs=15,\n",
    "                    verbose=1,\n",
    "                    validation_data=validation_generator)"
   ]
  },
  {
   "cell_type": "code",
   "execution_count": 34,
   "metadata": {},
   "outputs": [
    {
     "data": {
      "image/png": "[encoded data removed]",
      "text/plain": [
       "<Figure size 640x480 with 1 Axes>"
      ]
     },
     "metadata": {},
     "output_type": "display_data"
    },
    {
     "name": "stdout",
     "output_type": "stream",
     "text": [
      "\n"
     ]
    },
    {
     "data": {
      "image/png": "[encoded data removed]",
      "text/plain": [
       "<Figure size 640x480 with 1 Axes>"
      ]
     },
     "metadata": {},
     "output_type": "display_data"
    }
   ],
   "source": [
    "#-----------------------------------------------------------\n",
    "# Retrieve a list of list results on training and test data\n",
    "# sets for each training epoch\n",
    "#-----------------------------------------------------------\n",
    "acc=history.history['accuracy']\n",
    "val_acc=history.history['val_accuracy']\n",
    "loss=history.history['loss']\n",
    "val_loss=history.history['val_loss']\n",
    "\n",
    "epochs=range(len(acc)) # Get number of epochs\n",
    "\n",
    "#------------------------------------------------\n",
    "# Plot training and validation accuracy per epoch\n",
    "#------------------------------------------------\n",
    "plt.plot(epochs, acc, 'r', \"Training Accuracy\")\n",
    "plt.plot(epochs, val_acc, 'b', \"Validation Accuracy\")\n",
    "plt.title('Training and validation accuracy')\n",
    "plt.show()\n",
    "print(\"\")\n",
    "\n",
    "#------------------------------------------------\n",
    "# Plot training and validation loss per epoch\n",
    "#------------------------------------------------\n",
    "plt.plot(epochs, loss, 'r', \"Training Loss\")\n",
    "plt.plot(epochs, val_loss, 'b', \"Validation Loss\")\n",
    "plt.show()"
   ]
  },
  {
   "cell_type": "code",
   "execution_count": 35,
   "metadata": {},
   "outputs": [
    {
     "name": "stdout",
     "output_type": "stream",
     "text": [
      "Model: \"sequential_2\"\n",
      "_________________________________________________________________\n",
      " Layer (type)                Output Shape              Param #   \n",
      "=================================================================\n",
      " conv2d_6 (Conv2D)           (None, 148, 148, 16)      448       \n",
      "                                                                 \n",
      " max_pooling2d_6 (MaxPooling  (None, 74, 74, 16)       0         \n",
      " 2D)                                                             \n",
      "                                                                 \n",
      " conv2d_7 (Conv2D)           (None, 72, 72, 32)        4640      \n",
      "                                                                 \n",
      " max_pooling2d_7 (MaxPooling  (None, 36, 36, 32)       0         \n",
      " 2D)                                                             \n",
      "                                                                 \n",
      " conv2d_8 (Conv2D)           (None, 34, 34, 64)        18496     \n",
      "                                                                 \n",
      " max_pooling2d_8 (MaxPooling  (None, 17, 17, 64)       0         \n",
      " 2D)                                                             \n",
      "                                                                 \n",
      " flatten_2 (Flatten)         (None, 18496)             0         \n",
      "                                                                 \n",
      " dense_4 (Dense)             (None, 512)               9470464   \n",
      "                                                                 \n",
      " dense_5 (Dense)             (None, 1)                 513       \n",
      "                                                                 \n",
      "=================================================================\n",
      "Total params: 9,494,561\n",
      "Trainable params: 9,494,561\n",
      "Non-trainable params: 0\n",
      "_________________________________________________________________\n"
     ]
    }
   ],
   "source": [
    "model.summary()\n",
    "\n",
    "model.save(\"cats_vs_dogs.h5\")"
   ]
  }
 ],
 "metadata": {
  "kernelspec": {
   "display_name": "ai_playground",
   "language": "python",
   "name": "python3"
  },
  "language_info": {
   "codemirror_mode": {
    "name": "ipython",
    "version": 3
   },
   "file_extension": ".py",
   "mimetype": "text/x-python",
   "name": "python",
   "nbconvert_exporter": "python",
   "pygments_lexer": "ipython3",
   "version": "3.10.8"
  },
  "orig_nbformat": 4
 },
 "nbformat": 4,
 "nbformat_minor": 2
}
